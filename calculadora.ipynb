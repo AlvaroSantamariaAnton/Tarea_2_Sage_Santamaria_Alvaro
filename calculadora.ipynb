{
 "cells": [
  {
   "cell_type": "code",
   "execution_count": 15,
   "metadata": {
    "collapsed": false
   },
   "outputs": [
    {
     "name": "stdout",
     "output_type": "stream",
     "text": [
      "Floor: -4\n",
      "Ceiling: -3\n"
     ]
    }
   ],
   "source": [
    "# Calcula el floor y el ceiling de -3.56\n",
    "\n",
    "x = -3.56\n",
    "a = floor(x)\n",
    "b = ceil(x)\n",
    "print(\"Floor:\", a)\n",
    "print(\"Ceiling:\", b)"
   ]
  },
  {
   "cell_type": "code",
   "execution_count": 17,
   "metadata": {
    "collapsed": false
   },
   "outputs": [
    {
     "name": "stdout",
     "output_type": "stream",
     "text": [
      "4.605170185988092\n",
      "2\n",
      "2.302585092994046\n"
     ]
    }
   ],
   "source": [
    "# Calcula el logaritmo en base e de 100, calcula el logaritmo en base 10 de 100, después calcula el cociente. ¿Cual deberia ser el resultado?\n",
    "\n",
    "a = float(log(100, e))\n",
    "b = log(100, 10)\n",
    "c = a / b\n",
    "print(a)\n",
    "print(b)\n",
    "print(c)"
   ]
  },
  {
   "cell_type": "code",
   "execution_count": 10,
   "metadata": {
    "collapsed": false
   },
   "outputs": [
    {
     "data": {
      "text/plain": [
       "6"
      ]
     },
     "execution_count": 10,
     "metadata": {
     },
     "output_type": "execute_result"
    }
   ],
   "source": [
    "# Calcula el logaritmo en base 2 de 64.\n",
    "\n",
    "log(64, 2)"
   ]
  },
  {
   "cell_type": "code",
   "execution_count": 25,
   "metadata": {
    "collapsed": false
   },
   "outputs": [
    {
     "data": {
      "text/plain": [
       "(-1, 3.14159265358979)"
      ]
     },
     "execution_count": 25,
     "metadata": {
     },
     "output_type": "execute_result"
    }
   ],
   "source": [
    "# Compara $e^iπ$ con una aproximación numérica, usando pi.n()\n",
    "\n",
    "a = e^(I*pi)\n",
    "a, pi.n()"
   ]
  },
  {
   "cell_type": "code",
   "execution_count": 28,
   "metadata": {
    "collapsed": false
   },
   "outputs": [
    {
     "name": "stdout",
     "output_type": "stream",
     "text": [
      "1\n",
      "1\n",
      "5.125830895483013\n"
     ]
    }
   ],
   "source": [
    "# Calcula sin (π/2), cot (π/4) y csc (π/16). Resultado expresado en radianes\n",
    "\n",
    "a = sin(pi/2) \n",
    "b = cot(pi/4)\n",
    "c = float(csc(pi/16))\n",
    "print(a)\n",
    "print(b)\n",
    "print(c)"
   ]
  }
 ],
 "metadata": {
  "kernelspec": {
   "argv": [
    "sage-10.1",
    "--python",
    "-m",
    "sage.repl.ipython_kernel",
    "--matplotlib=inline",
    "-f",
    "{connection_file}"
   ],
   "display_name": "SageMath 10.1",
   "env": {
   },
   "language": "sagemath",
   "metadata": {
    "cocalc": {
     "description": "Open-source mathematical software system",
     "priority": 10,
     "url": "https://www.sagemath.org/"
    }
   },
   "name": "sage-10.1",
   "resource_dir": "/ext/jupyter/kernels/sage-10.1"
  },
  "language_info": {
   "codemirror_mode": {
    "name": "ipython",
    "version": 3
   },
   "file_extension": ".py",
   "mimetype": "text/x-python",
   "name": "python",
   "nbconvert_exporter": "python",
   "pygments_lexer": "ipython3",
   "version": "3.11.1"
  }
 },
 "nbformat": 4,
 "nbformat_minor": 4
}